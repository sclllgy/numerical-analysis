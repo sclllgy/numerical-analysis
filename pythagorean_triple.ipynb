{
 "cells": [
  {
   "cell_type": "markdown",
   "metadata": {},
   "source": [
    "### ピタゴラス数を列挙するプログラム"
   ]
  },
  {
   "cell_type": "code",
   "execution_count": 1,
   "metadata": {},
   "outputs": [],
   "source": [
    "# ライブラリのインポート\n",
    "import math\n",
    "import time"
   ]
  },
  {
   "cell_type": "code",
   "execution_count": 2,
   "metadata": {},
   "outputs": [],
   "source": [
    "# 定義に従ったアルゴリズム\n",
    "def pythagorean_triple1(n):\n",
    "    p_list = []\n",
    "    for x in range(1,n):\n",
    "        for y in range(1,n):\n",
    "            for z in range(1,n):\n",
    "                if (x<y<z) and (math.gcd(x,y,z)==1) and (x*x+y*y==z*z):\n",
    "                    p_list.append([x, y, z])\n",
    "    return p_list"
   ]
  },
  {
   "cell_type": "code",
   "execution_count": 3,
   "metadata": {},
   "outputs": [],
   "source": [
    "# 定義に従ったアルゴリズム（改良版）\n",
    "def pythagorean_triple2(n):\n",
    "    p_list = []\n",
    "    for x in range(1,n):\n",
    "        for y in range(x,n):\n",
    "            for z in range(y,n):\n",
    "                if (math.gcd(x,y,z)==1) and (x*x+y*y==z*z):\n",
    "                    p_list.append([x, y, z])\n",
    "    return p_list"
   ]
  },
  {
   "cell_type": "code",
   "execution_count": 4,
   "metadata": {},
   "outputs": [],
   "source": [
    "# 原始ピタゴラス数の生成式に従ったアルゴリズム\n",
    "def pythagorean_triple3(n):\n",
    "    p_list = []\n",
    "    for p in range(1,int(math.sqrt(n))):\n",
    "        for q in range(1,p):\n",
    "            if ((p-q)%2==1) and (math.gcd(p,q)==1):  # pとqは互いに素\n",
    "                if p*p+q*q <= n:\n",
    "                    p_list.append([p*p-q*q, 2*p*q, p*p+q*q])\n",
    "    return p_list"
   ]
  },
  {
   "cell_type": "code",
   "execution_count": 5,
   "metadata": {},
   "outputs": [],
   "source": [
    "n = 100"
   ]
  },
  {
   "cell_type": "code",
   "execution_count": 6,
   "metadata": {},
   "outputs": [
    {
     "name": "stdout",
     "output_type": "stream",
     "text": [
      "[[3, 4, 5], [5, 12, 13], [7, 24, 25], [8, 15, 17], [9, 40, 41], [11, 60, 61], [12, 35, 37], [13, 84, 85], [16, 63, 65], [20, 21, 29], [28, 45, 53], [33, 56, 65], [36, 77, 85], [39, 80, 89], [48, 55, 73], [65, 72, 97]]\n",
      "計算時間: 0.03756547 sec\n"
     ]
    }
   ],
   "source": [
    "start1 = time.time()\n",
    "print(pythagorean_triple1(n))\n",
    "print(\"計算時間: {:.8f} sec\".format(time.time()-start1))"
   ]
  },
  {
   "cell_type": "code",
   "execution_count": 7,
   "metadata": {},
   "outputs": [
    {
     "name": "stdout",
     "output_type": "stream",
     "text": [
      "[[3, 4, 5], [5, 12, 13], [7, 24, 25], [8, 15, 17], [9, 40, 41], [11, 60, 61], [12, 35, 37], [13, 84, 85], [16, 63, 65], [20, 21, 29], [28, 45, 53], [33, 56, 65], [36, 77, 85], [39, 80, 89], [48, 55, 73], [65, 72, 97]]\n",
      "計算時間: 0.01703858 sec\n"
     ]
    }
   ],
   "source": [
    "start2 = time.time()\n",
    "print(pythagorean_triple2(n))\n",
    "print(\"計算時間: {:.8f} sec\".format(time.time()-start2))"
   ]
  },
  {
   "cell_type": "code",
   "execution_count": 8,
   "metadata": {},
   "outputs": [
    {
     "name": "stdout",
     "output_type": "stream",
     "text": [
      "[[3, 4, 5], [5, 12, 13], [15, 8, 17], [7, 24, 25], [21, 20, 29], [9, 40, 41], [35, 12, 37], [11, 60, 61], [45, 28, 53], [33, 56, 65], [13, 84, 85], [63, 16, 65], [55, 48, 73], [39, 80, 89], [77, 36, 85], [65, 72, 97]]\n",
      "計算時間: 0.00000000 sec\n"
     ]
    }
   ],
   "source": [
    "start3 = time.time()\n",
    "print(pythagorean_triple3(n))\n",
    "print(\"計算時間: {:.8f} sec\".format(time.time()-start3))"
   ]
  }
 ],
 "metadata": {
  "kernelspec": {
   "display_name": "python310",
   "language": "python",
   "name": "python3"
  },
  "language_info": {
   "codemirror_mode": {
    "name": "ipython",
    "version": 3
   },
   "file_extension": ".py",
   "mimetype": "text/x-python",
   "name": "python",
   "nbconvert_exporter": "python",
   "pygments_lexer": "ipython3",
   "version": "3.10.11"
  }
 },
 "nbformat": 4,
 "nbformat_minor": 4
}
