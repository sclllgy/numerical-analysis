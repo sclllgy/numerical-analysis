{
 "cells": [
  {
   "cell_type": "markdown",
   "metadata": {},
   "source": [
    "### $\\rm Runge-Kutta$法を用いて次の常微分方程式の数値解を求めるプログラム\n",
    "### $$\\dot{x} = x(1-x), \\ x(0) = 0.01$$\n",
    "ただし，刻み幅は$dt = 0.1$とする．"
   ]
  },
  {
   "cell_type": "code",
   "execution_count": 1,
   "metadata": {},
   "outputs": [],
   "source": [
    "# ライブラリのインポート\n",
    "import matplotlib.pyplot as plt\n",
    "import numpy as np"
   ]
  },
  {
   "cell_type": "code",
   "execution_count": 2,
   "metadata": {},
   "outputs": [],
   "source": [
    "# 常微分方程式の定義\n",
    "def dxdt(t, x):\n",
    "    return x*(1 - x)"
   ]
  },
  {
   "cell_type": "code",
   "execution_count": 3,
   "metadata": {},
   "outputs": [],
   "source": [
    "# Runge-Kutta法\n",
    "def runge_kutta(dxdt, t, x, dt):\n",
    "    \"\"\"\n",
    "    param dxdt:\n",
    "    param t:\n",
    "    param x:\n",
    "    param dt: 刻み幅\n",
    "    \"\"\"\n",
    "    k1 = dt*dxdt(t, x)\n",
    "    k2 = dt*dxdt(t+dt/2, x+k1/2)\n",
    "    k3 = dt*dxdt(t+dt/2, x+k2/2)\n",
    "    k4 = dt*dxdt(t+dt, x+k3)\n",
    "    x += (k1 + 2*k2 + 2*k3 + k4)/6\n",
    "    t += dt\n",
    "\n",
    "    return t, x"
   ]
  },
  {
   "cell_type": "code",
   "execution_count": 4,
   "metadata": {},
   "outputs": [],
   "source": [
    "# Runge-Kutta法によって区間[t_start, t_end]における常微分方程式の解を求める．\n",
    "def solve_ode(dxdt, x_start, t_start, t_end, dt):\n",
    "    '''\n",
    "    param dxdt:\n",
    "    param x_start: xの初期値\n",
    "    param t_start: tの初期値\n",
    "    param t_end:   tの終了値\n",
    "    param dt:      刻み幅\n",
    "    '''\n",
    "    # 負の方向に計算する時は刻み幅の符号を反転\n",
    "    if t_end < t_start:\n",
    "        dt = -dt\n",
    "\n",
    "    # t,xの初期値\n",
    "    t = t_start\n",
    "    x = x_start\n",
    "    print(\"t = {:.7f},  x = {:.7f}\".format(t, x))\n",
    "\n",
    "    # t,xの値を格納するリスト\n",
    "    t_list = [t_start]\n",
    "    x_list = [x_start]\n",
    "\n",
    "    while(True):\n",
    "        t, x = runge_kutta(dxdt, t, x, dt)\n",
    "        print(\"t = {:.7f},  x = {:.7f}\".format(t, x))\n",
    "\n",
    "        # t,xの値をリストに追加\n",
    "        t_list.append(t)\n",
    "        x_list.append(x)\n",
    "\n",
    "        # 終了判定\n",
    "        if t_end < t:\n",
    "            print(\"Finished.\")\n",
    "            break\n",
    "\n",
    "    return t_list, x_list"
   ]
  },
  {
   "cell_type": "code",
   "execution_count": 5,
   "metadata": {},
   "outputs": [
    {
     "name": "stdout",
     "output_type": "stream",
     "text": [
      "t = 0.0000000,  x = 0.0100000\n",
      "t = 0.1000000,  x = 0.0110401\n",
      "t = 0.2000000,  x = 0.0121870\n",
      "t = 0.3000000,  x = 0.0134515\n",
      "t = 0.4000000,  x = 0.0148452\n",
      "t = 0.5000000,  x = 0.0163809\n",
      "t = 0.6000000,  x = 0.0180726\n",
      "t = 0.7000000,  x = 0.0199354\n",
      "t = 0.8000000,  x = 0.0219860\n",
      "t = 0.9000000,  x = 0.0242422\n",
      "t = 1.0000000,  x = 0.0267236\n",
      "t = 1.1000000,  x = 0.0294514\n",
      "t = 1.2000000,  x = 0.0324483\n",
      "t = 1.3000000,  x = 0.0357390\n",
      "t = 1.4000000,  x = 0.0393497\n",
      "t = 1.5000000,  x = 0.0433090\n",
      "t = 1.6000000,  x = 0.0476468\n",
      "t = 1.7000000,  x = 0.0523953\n",
      "t = 1.8000000,  x = 0.0575884\n",
      "t = 1.9000000,  x = 0.0632619\n",
      "t = 2.0000000,  x = 0.0694531\n",
      "t = 2.1000000,  x = 0.0762009\n",
      "t = 2.2000000,  x = 0.0835455\n",
      "t = 2.3000000,  x = 0.0915278\n",
      "t = 2.4000000,  x = 0.1001894\n",
      "t = 2.5000000,  x = 0.1095719\n",
      "t = 2.6000000,  x = 0.1197161\n",
      "t = 2.7000000,  x = 0.1306616\n",
      "t = 2.8000000,  x = 0.1424460\n",
      "t = 2.9000000,  x = 0.1551035\n",
      "t = 3.0000000,  x = 0.1686645\n",
      "t = 3.1000000,  x = 0.1831542\n",
      "t = 3.2000000,  x = 0.1985914\n",
      "t = 3.3000000,  x = 0.2149872\n",
      "t = 3.4000000,  x = 0.2323442\n",
      "t = 3.5000000,  x = 0.2506551\n",
      "t = 3.6000000,  x = 0.2699016\n",
      "t = 3.7000000,  x = 0.2900540\n",
      "t = 3.8000000,  x = 0.3110700\n",
      "t = 3.9000000,  x = 0.3328947\n",
      "t = 4.0000000,  x = 0.3554605\n",
      "t = 4.1000000,  x = 0.3786877\n",
      "t = 4.2000000,  x = 0.4024849\n",
      "t = 4.3000000,  x = 0.4267504\n",
      "t = 4.4000000,  x = 0.4513737\n",
      "t = 4.5000000,  x = 0.4762375\n",
      "t = 4.6000000,  x = 0.5012195\n",
      "t = 4.7000000,  x = 0.5261955\n",
      "t = 4.8000000,  x = 0.5510411\n",
      "t = 4.9000000,  x = 0.5756346\n",
      "t = 5.0000000,  x = 0.5998591\n",
      "t = 5.1000000,  x = 0.6236050\n",
      "t = 5.2000000,  x = 0.6467715\n",
      "t = 5.3000000,  x = 0.6692684\n",
      "t = 5.4000000,  x = 0.6910170\n",
      "t = 5.5000000,  x = 0.7119509\n",
      "t = 5.6000000,  x = 0.7320166\n",
      "t = 5.7000000,  x = 0.7511730\n",
      "t = 5.8000000,  x = 0.7693914\n",
      "t = 5.9000000,  x = 0.7866548\n",
      "t = 6.0000000,  x = 0.8029568\n",
      "t = 6.1000000,  x = 0.8183009\n",
      "t = 6.2000000,  x = 0.8326990\n",
      "t = 6.3000000,  x = 0.8461707\n",
      "t = 6.4000000,  x = 0.8587417\n",
      "t = 6.5000000,  x = 0.8704426\n",
      "t = 6.6000000,  x = 0.8813083\n",
      "t = 6.7000000,  x = 0.8913764\n",
      "t = 6.8000000,  x = 0.9006867\n",
      "t = 6.9000000,  x = 0.9092802\n",
      "t = 7.0000000,  x = 0.9171985\n",
      "t = 7.1000000,  x = 0.9244830\n",
      "t = 7.2000000,  x = 0.9311748\n",
      "t = 7.3000000,  x = 0.9373138\n",
      "t = 7.4000000,  x = 0.9429388\n",
      "t = 7.5000000,  x = 0.9480870\n",
      "t = 7.6000000,  x = 0.9527940\n",
      "t = 7.7000000,  x = 0.9570935\n",
      "t = 7.8000000,  x = 0.9610174\n",
      "t = 7.9000000,  x = 0.9645957\n",
      "t = 8.0000000,  x = 0.9678566\n",
      "t = 8.1000000,  x = 0.9708262\n",
      "t = 8.2000000,  x = 0.9735290\n",
      "t = 8.3000000,  x = 0.9759875\n",
      "t = 8.4000000,  x = 0.9782229\n",
      "t = 8.5000000,  x = 0.9802543\n",
      "t = 8.6000000,  x = 0.9820997\n",
      "t = 8.7000000,  x = 0.9837755\n",
      "t = 8.8000000,  x = 0.9852968\n",
      "t = 8.9000000,  x = 0.9866773\n",
      "t = 9.0000000,  x = 0.9879298\n",
      "t = 9.1000000,  x = 0.9890659\n",
      "t = 9.2000000,  x = 0.9900961\n",
      "t = 9.3000000,  x = 0.9910301\n",
      "t = 9.4000000,  x = 0.9918768\n",
      "t = 9.5000000,  x = 0.9926441\n",
      "t = 9.6000000,  x = 0.9933395\n",
      "t = 9.7000000,  x = 0.9939695\n",
      "t = 9.8000000,  x = 0.9945402\n",
      "t = 9.9000000,  x = 0.9950572\n",
      "t = 10.0000000,  x = 0.9955255\n",
      "t = 10.1000000,  x = 0.9959496\n",
      "Finished.\n"
     ]
    }
   ],
   "source": [
    "# Runge-Kutta法による数値解\n",
    "x_start = 0.01  # xの初期値\n",
    "t_start = 0.0   # tの初期値\n",
    "t_end   = 10.0  # tの終了値\n",
    "dt      = 1e-1  # 刻み幅\n",
    "[t_list, x_list] = solve_ode(dxdt, x_start, t_start, t_end, dt)"
   ]
  },
  {
   "cell_type": "code",
   "execution_count": 6,
   "metadata": {},
   "outputs": [],
   "source": [
    "# 厳密解\n",
    "t = np.array(t_list)\n",
    "D = -1.0 + 1.0/x_start\n",
    "x = 1.0 / (1.0 + D*np.exp(-t))"
   ]
  },
  {
   "cell_type": "code",
   "execution_count": 7,
   "metadata": {},
   "outputs": [],
   "source": [
    "# 数値解と厳密解の誤差\n",
    "err = np.abs(x_list - x)"
   ]
  },
  {
   "cell_type": "code",
   "execution_count": 8,
   "metadata": {},
   "outputs": [],
   "source": [
    "# matplotlibのレイアウト設定\n",
    "plt.rcParams['font.family'] = 'Times New Roman'\n",
    "plt.rcParams['mathtext.fontset'] = 'cm'\n",
    "plt.rcParams[\"font.size\"] = 16"
   ]
  },
  {
   "cell_type": "code",
   "execution_count": 9,
   "metadata": {},
   "outputs": [
    {
     "data": {
      "image/png": "[encoded data removed]",
      "text/plain": [
       "<Figure size 800x800 with 2 Axes>"
      ]
     },
     "metadata": {},
     "output_type": "display_data"
    }
   ],
   "source": [
    "# グラフの描画\n",
    "fig = plt.figure(figsize=(8,8))\n",
    "ax1 = fig.add_subplot(3,1,1)\n",
    "ax1.plot(t_list, x_list, linewidth=2.0, label='Runge-Kutta method')\n",
    "ax1.set_ylabel('$x(t)$')\n",
    "ax1.legend(loc='upper right')\n",
    "ax1.grid(True)\n",
    "\n",
    "ax2 = fig.add_subplot(3,1,2)\n",
    "ax2.plot(t_list, err, linewidth=2.0)\n",
    "ax2.set_xlabel('$t$')\n",
    "ax2.set_ylabel('$error$')\n",
    "ax2.grid(True)\n",
    "\n",
    "plt.show()"
   ]
  }
 ],
 "metadata": {
  "kernelspec": {
   "display_name": "python310",
   "language": "python",
   "name": "python3"
  },
  "language_info": {
   "codemirror_mode": {
    "name": "ipython",
    "version": 3
   },
   "file_extension": ".py",
   "mimetype": "text/x-python",
   "name": "python",
   "nbconvert_exporter": "python",
   "pygments_lexer": "ipython3",
   "version": "3.10.11"
  }
 },
 "nbformat": 4,
 "nbformat_minor": 2
}
