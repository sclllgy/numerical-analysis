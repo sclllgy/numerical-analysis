{
 "cells": [
  {
   "cell_type": "markdown",
   "metadata": {},
   "source": [
    "### $\\rm Euler$法を用いて次の常微分方程式の数値解を求めるプログラム\n",
    "### $$\\dot{x} = x(1-x), \\ x(0) = 0.01$$\n",
    "ただし，刻み幅は$dt = 0.1$とする．"
   ]
  },
  {
   "cell_type": "code",
   "execution_count": 1,
   "metadata": {},
   "outputs": [],
   "source": [
    "# ライブラリのインポート\n",
    "import matplotlib.pyplot as plt\n",
    "import numpy as np"
   ]
  },
  {
   "cell_type": "code",
   "execution_count": 2,
   "metadata": {},
   "outputs": [],
   "source": [
    "# 常微分方程式の定義\n",
    "def dxdt(t, x):\n",
    "    return x*(1 - x)"
   ]
  },
  {
   "cell_type": "code",
   "execution_count": 3,
   "metadata": {},
   "outputs": [],
   "source": [
    "# Euler法\n",
    "def euler(dxdt, t, x, dt):\n",
    "    \"\"\"\n",
    "    param dxdt:\n",
    "    param t:\n",
    "    param x:\n",
    "    param dt: 刻み幅\n",
    "    \"\"\"\n",
    "    dx = dt*dxdt(t, x)\n",
    "    x += dx\n",
    "    t += dt\n",
    "\n",
    "    return t, x"
   ]
  },
  {
   "cell_type": "code",
   "execution_count": 4,
   "metadata": {},
   "outputs": [],
   "source": [
    "# Euler法によって区間[t_start, t_end]における常微分方程式の解を求める．\n",
    "def solve_ode(dxdt, x_start, t_start, t_end, dt):\n",
    "    \"\"\"\n",
    "    param dxdt:\n",
    "    param x_start: xの初期値\n",
    "    param t_start: tの初期値\n",
    "    param t_end:   tの終了値\n",
    "    param dt:      刻み幅\n",
    "    \"\"\"\n",
    "    # 負の方向に計算する時は刻み幅の符号を反転\n",
    "    if t_end < t_start:\n",
    "        dt = -dt\n",
    "\n",
    "    # t,xの初期値\n",
    "    t = t_start\n",
    "    x = x_start\n",
    "    print(\"t = {:.7f},  x = {:.7f}\".format(t, x))\n",
    "\n",
    "    # t,xの値を格納するリスト\n",
    "    t_list = [t_start]\n",
    "    x_list = [x_start]\n",
    "\n",
    "    while(True):\n",
    "        t, x = euler(dxdt, t, x, dt)\n",
    "        print(\"t = {:.7f},  x = {:.7f}\".format(t, x))\n",
    "\n",
    "        # t,xの値をリストに追加\n",
    "        t_list.append(t)\n",
    "        x_list.append(x)\n",
    "\n",
    "        # 終了判定\n",
    "        if t_end < t:\n",
    "            print(\"Finished.\")\n",
    "            break\n",
    "\n",
    "    return t_list, x_list"
   ]
  },
  {
   "cell_type": "code",
   "execution_count": 5,
   "metadata": {},
   "outputs": [
    {
     "name": "stdout",
     "output_type": "stream",
     "text": [
      "t = 0.0000000,  x = 0.0100000\n",
      "t = 0.1000000,  x = 0.0109900\n",
      "t = 0.2000000,  x = 0.0120769\n",
      "t = 0.3000000,  x = 0.0132700\n",
      "t = 0.4000000,  x = 0.0145794\n",
      "t = 0.5000000,  x = 0.0160161\n",
      "t = 0.6000000,  x = 0.0175921\n",
      "t = 0.7000000,  x = 0.0193203\n",
      "t = 0.8000000,  x = 0.0212150\n",
      "t = 0.9000000,  x = 0.0232915\n",
      "t = 1.0000000,  x = 0.0255664\n",
      "t = 1.1000000,  x = 0.0280577\n",
      "t = 1.2000000,  x = 0.0307848\n",
      "t = 1.3000000,  x = 0.0337685\n",
      "t = 1.4000000,  x = 0.0370313\n",
      "t = 1.5000000,  x = 0.0405973\n",
      "t = 1.6000000,  x = 0.0444922\n",
      "t = 1.7000000,  x = 0.0487435\n",
      "t = 1.8000000,  x = 0.0533802\n",
      "t = 1.9000000,  x = 0.0584333\n",
      "t = 2.0000000,  x = 0.0639352\n",
      "t = 2.1000000,  x = 0.0699199\n",
      "t = 2.2000000,  x = 0.0764230\n",
      "t = 2.3000000,  x = 0.0834813\n",
      "t = 2.4000000,  x = 0.0911325\n",
      "t = 2.5000000,  x = 0.0994152\n",
      "t = 2.6000000,  x = 0.1083684\n",
      "t = 2.7000000,  x = 0.1180309\n",
      "t = 2.8000000,  x = 0.1284408\n",
      "t = 2.9000000,  x = 0.1396352\n",
      "t = 3.0000000,  x = 0.1516489\n",
      "t = 3.1000000,  x = 0.1645141\n",
      "t = 3.2000000,  x = 0.1782590\n",
      "t = 3.3000000,  x = 0.1929073\n",
      "t = 3.4000000,  x = 0.2084767\n",
      "t = 3.5000000,  x = 0.2249781\n",
      "t = 3.6000000,  x = 0.2424144\n",
      "t = 3.7000000,  x = 0.2607794\n",
      "t = 3.8000000,  x = 0.2800567\n",
      "t = 3.9000000,  x = 0.3002192\n",
      "t = 4.0000000,  x = 0.3212280\n",
      "t = 4.1000000,  x = 0.3430320\n",
      "t = 4.2000000,  x = 0.3655681\n",
      "t = 4.3000000,  x = 0.3887609\n",
      "t = 4.4000000,  x = 0.4125235\n",
      "t = 4.5000000,  x = 0.4367583\n",
      "t = 4.6000000,  x = 0.4613584\n",
      "t = 4.7000000,  x = 0.4862091\n",
      "t = 4.8000000,  x = 0.5111900\n",
      "t = 4.9000000,  x = 0.5361775\n",
      "t = 5.0000000,  x = 0.5610466\n",
      "t = 5.1000000,  x = 0.5856740\n",
      "t = 5.2000000,  x = 0.6099400\n",
      "t = 5.3000000,  x = 0.6337313\n",
      "t = 5.4000000,  x = 0.6569429\n",
      "t = 5.5000000,  x = 0.6794798\n",
      "t = 5.6000000,  x = 0.7012585\n",
      "t = 5.7000000,  x = 0.7222080\n",
      "t = 5.8000000,  x = 0.7422703\n",
      "t = 5.9000000,  x = 0.7614008\n",
      "t = 6.0000000,  x = 0.7795678\n",
      "t = 6.1000000,  x = 0.7967520\n",
      "t = 6.2000000,  x = 0.8129458\n",
      "t = 6.3000000,  x = 0.8281523\n",
      "t = 6.4000000,  x = 0.8423839\n",
      "t = 6.5000000,  x = 0.8556612\n",
      "t = 6.6000000,  x = 0.8680117\n",
      "t = 6.7000000,  x = 0.8794685\n",
      "t = 6.8000000,  x = 0.8900688\n",
      "t = 6.9000000,  x = 0.8998535\n",
      "t = 7.0000000,  x = 0.9088652\n",
      "t = 7.1000000,  x = 0.9171481\n",
      "t = 7.2000000,  x = 0.9247469\n",
      "t = 7.3000000,  x = 0.9317059\n",
      "t = 7.4000000,  x = 0.9380689\n",
      "t = 7.5000000,  x = 0.9438784\n",
      "t = 7.6000000,  x = 0.9491756\n",
      "t = 7.7000000,  x = 0.9539998\n",
      "t = 7.8000000,  x = 0.9583882\n",
      "t = 7.9000000,  x = 0.9623762\n",
      "t = 8.0000000,  x = 0.9659970\n",
      "t = 8.1000000,  x = 0.9692817\n",
      "t = 8.2000000,  x = 0.9722592\n",
      "t = 8.3000000,  x = 0.9749563\n",
      "t = 8.4000000,  x = 0.9773980\n",
      "t = 8.5000000,  x = 0.9796071\n",
      "t = 8.6000000,  x = 0.9816048\n",
      "t = 8.7000000,  x = 0.9834105\n",
      "t = 8.8000000,  x = 0.9850419\n",
      "t = 8.9000000,  x = 0.9865153\n",
      "t = 9.0000000,  x = 0.9878456\n",
      "t = 9.1000000,  x = 0.9890463\n",
      "t = 9.2000000,  x = 0.9901297\n",
      "t = 9.3000000,  x = 0.9911069\n",
      "t = 9.4000000,  x = 0.9919883\n",
      "t = 9.5000000,  x = 0.9927831\n",
      "t = 9.6000000,  x = 0.9934996\n",
      "t = 9.7000000,  x = 0.9941454\n",
      "t = 9.8000000,  x = 0.9947274\n",
      "t = 9.9000000,  x = 0.9952519\n",
      "t = 10.0000000,  x = 0.9957245\n",
      "t = 10.1000000,  x = 0.9961502\n",
      "Finished.\n"
     ]
    }
   ],
   "source": [
    "# Euler法による数値解\n",
    "x_start = 0.01  # xの初期値\n",
    "t_start = 0.0   # tの初期値\n",
    "t_end   = 10.0  # tの終了値\n",
    "dt      = 1e-1  # 刻み幅\n",
    "[t_list, x_list] = solve_ode(dxdt, x_start, t_start, t_end, dt)"
   ]
  },
  {
   "cell_type": "code",
   "execution_count": 6,
   "metadata": {},
   "outputs": [],
   "source": [
    "# 厳密解\n",
    "t = np.array(t_list)\n",
    "D = -1.0 + 1.0/x_start\n",
    "x = 1.0 / (1.0 + D*np.exp(-t))"
   ]
  },
  {
   "cell_type": "code",
   "execution_count": 7,
   "metadata": {},
   "outputs": [],
   "source": [
    "# 数値解と厳密解の誤差\n",
    "err = np.abs(x_list - x)"
   ]
  },
  {
   "cell_type": "code",
   "execution_count": 8,
   "metadata": {},
   "outputs": [],
   "source": [
    "# matplotlibのレイアウト設定\n",
    "plt.rcParams['font.family'] = 'Times New Roman'\n",
    "plt.rcParams['mathtext.fontset'] = 'cm'\n",
    "plt.rcParams[\"font.size\"] = 16"
   ]
  },
  {
   "cell_type": "code",
   "execution_count": 9,
   "metadata": {},
   "outputs": [
    {
     "data": {
      "image/png": "[encoded data removed]",
      "text/plain": [
       "<Figure size 800x800 with 2 Axes>"
      ]
     },
     "metadata": {},
     "output_type": "display_data"
    }
   ],
   "source": [
    "# グラフの描画\n",
    "fig = plt.figure(figsize=(8,8))\n",
    "ax1 = fig.add_subplot(3,1,1)\n",
    "ax1.plot(t_list, x_list, linewidth=2.0, label='Euler method')\n",
    "ax1.set_ylabel('$x(t)$')\n",
    "ax1.legend(loc='upper right')\n",
    "ax1.grid(True)\n",
    "\n",
    "ax2 = fig.add_subplot(3,1,2)\n",
    "ax2.plot(t_list, err, linewidth=2.0)\n",
    "ax2.set_xlabel('$t$')\n",
    "ax2.set_ylabel('$error$')\n",
    "ax2.grid(True)\n",
    "\n",
    "plt.show()"
   ]
  }
 ],
 "metadata": {
  "kernelspec": {
   "display_name": "python310",
   "language": "python",
   "name": "python3"
  },
  "language_info": {
   "codemirror_mode": {
    "name": "ipython",
    "version": 3
   },
   "file_extension": ".py",
   "mimetype": "text/x-python",
   "name": "python",
   "nbconvert_exporter": "python",
   "pygments_lexer": "ipython3",
   "version": "3.10.11"
  }
 },
 "nbformat": 4,
 "nbformat_minor": 2
}
