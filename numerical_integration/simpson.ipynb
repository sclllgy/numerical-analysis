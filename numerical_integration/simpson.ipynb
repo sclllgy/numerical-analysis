{
 "cells": [
  {
   "cell_type": "markdown",
   "metadata": {},
   "source": [
    "### 次の積分について，シンプソン則によって数値積分するプログラム\n",
    "### $$\\int_{0}^{1} \\exp(-\\dfrac{x^2}{2}) dx$$"
   ]
  },
  {
   "cell_type": "code",
   "execution_count": 1,
   "metadata": {},
   "outputs": [],
   "source": [
    "# ライブラリのインポート\n",
    "import matplotlib.pyplot as plt\n",
    "import numpy as np"
   ]
  },
  {
   "cell_type": "code",
   "execution_count": 2,
   "metadata": {},
   "outputs": [],
   "source": [
    "# 被積分関数の定義\n",
    "def func_f(x):\n",
    "    return np.exp(-x**2 / 2)"
   ]
  },
  {
   "cell_type": "code",
   "execution_count": 3,
   "metadata": {},
   "outputs": [],
   "source": [
    "# シンプソン則\n",
    "def simpson(func_f, x_min, x_max, n=2**3):\n",
    "    \"\"\"\n",
    "    func_f: 被積分関数\n",
    "    x_min:  積分区間の下端\n",
    "    x_max:  積分区間の上端\n",
    "    n:      格子分割数\n",
    "    \"\"\"\n",
    "    count = 0             # 計算回数\n",
    "    dx = (x_max-x_min)/n  # 刻み幅\n",
    "\n",
    "    x = x_min  # xの初期値\n",
    "\n",
    "    integral_value = 0.0  # 積分値\n",
    "    while(True):\n",
    "        count += 1  # 計算回数\n",
    "\n",
    "        # 微小区間の積分値を計算\n",
    "        x += dx\n",
    "        ds = (func_f(x-dx) + 4*func_f(x-dx/2) + func_f(x)) * dx/6.0\n",
    "        integral_value += ds\n",
    "\n",
    "        # 「計算回数が格子分割数以上」ならば終了\n",
    "        if n <= count:\n",
    "            break\n",
    "\n",
    "    return integral_value"
   ]
  },
  {
   "cell_type": "code",
   "execution_count": 4,
   "metadata": {},
   "outputs": [
    {
     "name": "stdout",
     "output_type": "stream",
     "text": [
      "n =   1:  integral_value = 0.856086378341836\n",
      "n =   2:  integral_value = 0.855651317561936\n",
      "n =   4:  integral_value = 0.855626046443653\n",
      "n =   8:  integral_value = 0.855624494868288\n",
      "n =  16:  integral_value = 0.855624398321421\n",
      "n =  32:  integral_value = 0.855624392293873\n",
      "n =  64:  integral_value = 0.855624391917255\n",
      "n = 128:  integral_value = 0.855624391893718\n"
     ]
    }
   ],
   "source": [
    "# シンプソン則での計算\n",
    "for n in range(8):\n",
    "    integral_value = simpson(func_f, 0.0, 1.0, 2**n)\n",
    "    print(\"n = {:3d}:  integral_value = {:.15f}\".format(2**n, integral_value))"
   ]
  }
 ],
 "metadata": {
  "kernelspec": {
   "display_name": "python310",
   "language": "python",
   "name": "python3"
  },
  "language_info": {
   "codemirror_mode": {
    "name": "ipython",
    "version": 3
   },
   "file_extension": ".py",
   "mimetype": "text/x-python",
   "name": "python",
   "nbconvert_exporter": "python",
   "pygments_lexer": "ipython3",
   "version": "3.10.11"
  }
 },
 "nbformat": 4,
 "nbformat_minor": 2
}
